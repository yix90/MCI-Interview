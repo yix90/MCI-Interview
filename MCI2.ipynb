{
 "cells": [
  {
   "cell_type": "markdown",
   "metadata": {},
   "source": [
    "# 2nd part: Querying\n",
    "\n",
    "Read from the SQLite file and start querying\n",
    "\n",
    "database: dbase\n",
    "\n",
    "tables: question, respondent, response\n",
    "\n",
    "respondent columns: 'respondent_id','study_id','sex','date','n_children'\n",
    "\n",
    "response columns: 'id','study_id','respondent_id','question_id','response'"
   ]
  },
  {
   "cell_type": "code",
   "execution_count": 24,
   "metadata": {},
   "outputs": [],
   "source": [
    "import sqlite3\n",
    "import pandas as pd\n",
    "import numpy as np\n",
    "from pandas.io import sql\n",
    "import matplotlib.pyplot as plt\n",
    "\n",
    "%matplotlib inline\n",
    "conn = sqlite3.connect('./dbase.sqlite') "
   ]
  },
  {
   "cell_type": "code",
   "execution_count": 17,
   "metadata": {},
   "outputs": [
    {
     "data": {
      "text/html": [
       "<div>\n",
       "<style scoped>\n",
       "    .dataframe tbody tr th:only-of-type {\n",
       "        vertical-align: middle;\n",
       "    }\n",
       "\n",
       "    .dataframe tbody tr th {\n",
       "        vertical-align: top;\n",
       "    }\n",
       "\n",
       "    .dataframe thead th {\n",
       "        text-align: right;\n",
       "    }\n",
       "</style>\n",
       "<table border=\"1\" class=\"dataframe\">\n",
       "  <thead>\n",
       "    <tr style=\"text-align: right;\">\n",
       "      <th></th>\n",
       "      <th>'Strongly disagree' or 'disagree' for Q1</th>\n",
       "    </tr>\n",
       "  </thead>\n",
       "  <tbody>\n",
       "    <tr>\n",
       "      <th>0</th>\n",
       "      <td>6</td>\n",
       "    </tr>\n",
       "  </tbody>\n",
       "</table>\n",
       "</div>"
      ],
      "text/plain": [
       "   'Strongly disagree' or 'disagree' for Q1\n",
       "0                                         6"
      ]
     },
     "execution_count": 17,
     "metadata": {},
     "output_type": "execute_result"
    }
   ],
   "source": [
    "query=\"\"\"\n",
    "SELECT sum(question_id='Q1' and response < 3) AS \"'Strongly disagree' or 'disagree' for Q1\"\n",
    "FROM response\n",
    "\"\"\"\n",
    "\n",
    "sql.read_sql(query, con=conn)"
   ]
  },
  {
   "cell_type": "code",
   "execution_count": 18,
   "metadata": {},
   "outputs": [
    {
     "data": {
      "text/html": [
       "<div>\n",
       "<style scoped>\n",
       "    .dataframe tbody tr th:only-of-type {\n",
       "        vertical-align: middle;\n",
       "    }\n",
       "\n",
       "    .dataframe tbody tr th {\n",
       "        vertical-align: top;\n",
       "    }\n",
       "\n",
       "    .dataframe thead th {\n",
       "        text-align: right;\n",
       "    }\n",
       "</style>\n",
       "<table border=\"1\" class=\"dataframe\">\n",
       "  <thead>\n",
       "    <tr style=\"text-align: right;\">\n",
       "      <th></th>\n",
       "      <th>Gender</th>\n",
       "      <th>'Strongly disagree' or 'disagree' for Q1</th>\n",
       "    </tr>\n",
       "  </thead>\n",
       "  <tbody>\n",
       "    <tr>\n",
       "      <th>0</th>\n",
       "      <td>Female</td>\n",
       "      <td>4</td>\n",
       "    </tr>\n",
       "    <tr>\n",
       "      <th>1</th>\n",
       "      <td>Male</td>\n",
       "      <td>2</td>\n",
       "    </tr>\n",
       "  </tbody>\n",
       "</table>\n",
       "</div>"
      ],
      "text/plain": [
       "   Gender  'Strongly disagree' or 'disagree' for Q1\n",
       "0  Female                                         4\n",
       "1    Male                                         2"
      ]
     },
     "execution_count": 18,
     "metadata": {},
     "output_type": "execute_result"
    }
   ],
   "source": [
    "query=\"\"\"\n",
    "SELECT \n",
    "CASE WHEN rest.sex = 1 THEN 'Male'\n",
    "     WHEN rest.sex = 2 THEN 'Female'\n",
    "     END AS Gender,\n",
    "SUM(question_id='Q1' and response < 3) AS \"'Strongly disagree' or 'disagree' for Q1\"\n",
    "FROM response resp\n",
    "LEFT JOIN respondent rest\n",
    "on (resp.respondent_id = rest.id and resp.study_id=rest.study_id)\n",
    "GROUP BY Gender\n",
    "\"\"\"\n",
    "\n",
    "sql.read_sql(query, con=conn)"
   ]
  },
  {
   "cell_type": "code",
   "execution_count": 19,
   "metadata": {},
   "outputs": [
    {
     "data": {
      "text/html": [
       "<div>\n",
       "<style scoped>\n",
       "    .dataframe tbody tr th:only-of-type {\n",
       "        vertical-align: middle;\n",
       "    }\n",
       "\n",
       "    .dataframe tbody tr th {\n",
       "        vertical-align: top;\n",
       "    }\n",
       "\n",
       "    .dataframe thead th {\n",
       "        text-align: right;\n",
       "    }\n",
       "</style>\n",
       "<table border=\"1\" class=\"dataframe\">\n",
       "  <thead>\n",
       "    <tr style=\"text-align: right;\">\n",
       "      <th></th>\n",
       "      <th>Gender</th>\n",
       "      <th>'Strongly Disagree' or 'Disagree' for Q1</th>\n",
       "      <th>'Neutral' for Q1</th>\n",
       "      <th>'Agree' or 'Strongly Agree' for Q1</th>\n",
       "    </tr>\n",
       "  </thead>\n",
       "  <tbody>\n",
       "    <tr>\n",
       "      <th>0</th>\n",
       "      <td>Female</td>\n",
       "      <td>4</td>\n",
       "      <td>1</td>\n",
       "      <td>4</td>\n",
       "    </tr>\n",
       "    <tr>\n",
       "      <th>1</th>\n",
       "      <td>Male</td>\n",
       "      <td>2</td>\n",
       "      <td>3</td>\n",
       "      <td>5</td>\n",
       "    </tr>\n",
       "  </tbody>\n",
       "</table>\n",
       "</div>"
      ],
      "text/plain": [
       "   Gender  'Strongly Disagree' or 'Disagree' for Q1  'Neutral' for Q1  \\\n",
       "0  Female                                         4                 1   \n",
       "1    Male                                         2                 3   \n",
       "\n",
       "   'Agree' or 'Strongly Agree' for Q1  \n",
       "0                                   4  \n",
       "1                                   5  "
      ]
     },
     "execution_count": 19,
     "metadata": {},
     "output_type": "execute_result"
    }
   ],
   "source": [
    "query=\"\"\"\n",
    "SELECT \n",
    "CASE WHEN rest.sex = 1 THEN 'Male'\n",
    "     WHEN rest.sex = 2 THEN 'Female'\n",
    "     END AS Gender,\n",
    "SUM(question_id='Q1' and response < 3) AS \"'Strongly Disagree' or 'Disagree' for Q1\",\n",
    "SUM(question_id='Q1' and response = 3) AS \"'Neutral' for Q1\",\n",
    "SUM(question_id='Q1' and (response = 4 or response = 5)) AS \"'Agree' or 'Strongly Agree' for Q1\"\n",
    "FROM response resp\n",
    "LEFT JOIN respondent rest\n",
    "on (resp.respondent_id = rest.id and resp.study_id=rest.study_id)\n",
    "GROUP BY Gender\n",
    "\"\"\"\n",
    "\n",
    "sql.read_sql(query, con=conn)"
   ]
  },
  {
   "cell_type": "code",
   "execution_count": 31,
   "metadata": {},
   "outputs": [
    {
     "data": {
      "text/html": [
       "<div>\n",
       "<style scoped>\n",
       "    .dataframe tbody tr th:only-of-type {\n",
       "        vertical-align: middle;\n",
       "    }\n",
       "\n",
       "    .dataframe tbody tr th {\n",
       "        vertical-align: top;\n",
       "    }\n",
       "\n",
       "    .dataframe thead th {\n",
       "        text-align: right;\n",
       "    }\n",
       "</style>\n",
       "<table border=\"1\" class=\"dataframe\">\n",
       "  <thead>\n",
       "    <tr style=\"text-align: right;\">\n",
       "      <th></th>\n",
       "      <th>Orange</th>\n",
       "      <th>Blue</th>\n",
       "      <th>Red</th>\n",
       "      <th>Purple</th>\n",
       "      <th>Pink</th>\n",
       "      <th>Don't know</th>\n",
       "    </tr>\n",
       "  </thead>\n",
       "  <tbody>\n",
       "    <tr>\n",
       "      <th>0</th>\n",
       "      <td>11</td>\n",
       "      <td>13</td>\n",
       "      <td>7</td>\n",
       "      <td>8</td>\n",
       "      <td>11</td>\n",
       "      <td>2</td>\n",
       "    </tr>\n",
       "  </tbody>\n",
       "</table>\n",
       "</div>"
      ],
      "text/plain": [
       "   Orange  Blue  Red  Purple  Pink  Don't know\n",
       "0      11    13    7       8    11           2"
      ]
     },
     "execution_count": 31,
     "metadata": {},
     "output_type": "execute_result"
    }
   ],
   "source": [
    "query=\"\"\"\n",
    "SELECT\n",
    "SUM(question_id='Q3_1' and response = 1) AS \"Orange\",\n",
    "SUM(question_id='Q3_2' and response = 1) AS \"Blue\",\n",
    "SUM(question_id='Q3_3' and response = 1) AS \"Red\",\n",
    "SUM(question_id='Q3_4' and response = 1) AS \"Purple\",\n",
    "SUM(question_id='Q3_5' and response = 1) AS \"Pink\",\n",
    "SUM(question_id='Q3_6' and response = 1) AS \"Don't know\"\n",
    "FROM response\n",
    "\"\"\"\n",
    "\n",
    "sql.read_sql(query, con=conn)"
   ]
  },
  {
   "cell_type": "code",
   "execution_count": 33,
   "metadata": {},
   "outputs": [
    {
     "data": {
      "text/html": [
       "<div>\n",
       "<style scoped>\n",
       "    .dataframe tbody tr th:only-of-type {\n",
       "        vertical-align: middle;\n",
       "    }\n",
       "\n",
       "    .dataframe tbody tr th {\n",
       "        vertical-align: top;\n",
       "    }\n",
       "\n",
       "    .dataframe thead th {\n",
       "        text-align: right;\n",
       "    }\n",
       "</style>\n",
       "<table border=\"1\" class=\"dataframe\">\n",
       "  <thead>\n",
       "    <tr style=\"text-align: right;\">\n",
       "      <th></th>\n",
       "      <th>Gender</th>\n",
       "      <th>Orange</th>\n",
       "      <th>Blue</th>\n",
       "      <th>Red</th>\n",
       "      <th>Purple</th>\n",
       "      <th>Pink</th>\n",
       "      <th>Don't know</th>\n",
       "    </tr>\n",
       "  </thead>\n",
       "  <tbody>\n",
       "    <tr>\n",
       "      <th>0</th>\n",
       "      <td>Female</td>\n",
       "      <td>6</td>\n",
       "      <td>7</td>\n",
       "      <td>4</td>\n",
       "      <td>4</td>\n",
       "      <td>5</td>\n",
       "      <td>1</td>\n",
       "    </tr>\n",
       "    <tr>\n",
       "      <th>1</th>\n",
       "      <td>Male</td>\n",
       "      <td>5</td>\n",
       "      <td>6</td>\n",
       "      <td>3</td>\n",
       "      <td>4</td>\n",
       "      <td>6</td>\n",
       "      <td>1</td>\n",
       "    </tr>\n",
       "  </tbody>\n",
       "</table>\n",
       "</div>"
      ],
      "text/plain": [
       "   Gender  Orange  Blue  Red  Purple  Pink  Don't know\n",
       "0  Female       6     7    4       4     5           1\n",
       "1    Male       5     6    3       4     6           1"
      ]
     },
     "execution_count": 33,
     "metadata": {},
     "output_type": "execute_result"
    }
   ],
   "source": [
    "query=\"\"\"\n",
    "SELECT \n",
    "CASE WHEN rest.sex = 1 THEN 'Male'\n",
    "     WHEN rest.sex = 2 THEN 'Female'\n",
    "     END AS Gender,\n",
    "SUM(question_id='Q3_1' and response = 1) AS \"Orange\",\n",
    "SUM(question_id='Q3_2' and response = 1) AS \"Blue\",\n",
    "SUM(question_id='Q3_3' and response = 1) AS \"Red\",\n",
    "SUM(question_id='Q3_4' and response = 1) AS \"Purple\",\n",
    "SUM(question_id='Q3_5' and response = 1) AS \"Pink\",\n",
    "SUM(question_id='Q3_6' and response = 1) AS \"Don't know\"\n",
    "FROM response resp\n",
    "LEFT JOIN respondent rest\n",
    "on (resp.respondent_id = rest.id and resp.study_id=rest.study_id)\n",
    "GROUP BY Gender\n",
    "\"\"\"\n",
    "\n",
    "sql.read_sql(query, con=conn)"
   ]
  },
  {
   "cell_type": "code",
   "execution_count": 35,
   "metadata": {},
   "outputs": [
    {
     "data": {
      "text/html": [
       "<div>\n",
       "<style scoped>\n",
       "    .dataframe tbody tr th:only-of-type {\n",
       "        vertical-align: middle;\n",
       "    }\n",
       "\n",
       "    .dataframe tbody tr th {\n",
       "        vertical-align: top;\n",
       "    }\n",
       "\n",
       "    .dataframe thead th {\n",
       "        text-align: right;\n",
       "    }\n",
       "</style>\n",
       "<table border=\"1\" class=\"dataframe\">\n",
       "  <thead>\n",
       "    <tr style=\"text-align: right;\">\n",
       "      <th></th>\n",
       "      <th>No children</th>\n",
       "      <th>1-2 children</th>\n",
       "      <th>3 or more children</th>\n",
       "    </tr>\n",
       "  </thead>\n",
       "  <tbody>\n",
       "    <tr>\n",
       "      <th>0</th>\n",
       "      <td>3</td>\n",
       "      <td>4</td>\n",
       "      <td>3</td>\n",
       "    </tr>\n",
       "  </tbody>\n",
       "</table>\n",
       "</div>"
      ],
      "text/plain": [
       "   No children  1-2 children  3 or more children\n",
       "0            3             4                   3"
      ]
     },
     "execution_count": 35,
     "metadata": {},
     "output_type": "execute_result"
    }
   ],
   "source": [
    "query=\"\"\"\n",
    "SELECT \n",
    "SUM(n_children = 0) AS \"No children\",\n",
    "SUM(n_children between 1 and 2) AS \"1-2 children\",\n",
    "SUM(n_children > 2) AS \"3 or more children\"\n",
    "FROM respondent\n",
    "WHERE study_id = 102\n",
    "\"\"\"\n",
    "\n",
    "sql.read_sql(query, con=conn)"
   ]
  },
  {
   "cell_type": "markdown",
   "metadata": {},
   "source": [
    "Done"
   ]
  }
 ],
 "metadata": {
  "kernelspec": {
   "display_name": "Python 2",
   "language": "python",
   "name": "python2"
  },
  "language_info": {
   "codemirror_mode": {
    "name": "ipython",
    "version": 2
   },
   "file_extension": ".py",
   "mimetype": "text/x-python",
   "name": "python",
   "nbconvert_exporter": "python",
   "pygments_lexer": "ipython2",
   "version": "2.7.14"
  }
 },
 "nbformat": 4,
 "nbformat_minor": 2
}
